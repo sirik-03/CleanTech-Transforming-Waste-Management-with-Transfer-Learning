{
  "nbformat": 4,
  "nbformat_minor": 0,
  "metadata": {
    "colab": {
      "provenance": []
    },
    "kernelspec": {
      "name": "python3",
      "display_name": "Python 3"
    },
    "language_info": {
      "name": "python"
    }
  },
  "cells": [
    {
      "cell_type": "code",
      "execution_count": null,
      "metadata": {
        "id": "9fib3Ay5ANv6"
      },
      "outputs": [],
      "source": [
        "\n",
        "import os\n",
        "import shutil\n",
        "import numpy as np\n",
        "from tensorflow.keras.preprocessing.image import ImageDataGenerator\n",
        "from sklearn.model_selection import train_test_split\n",
        "from tensorflow.keras.applications.vgg16 import VGG16\n",
        "from tensorflow.keras.layers import Dense, Flatten\n",
        "from tensorflow.keras.models import Model\n",
        "from keras.optimizers import Adam\n",
        "from tensorflow.keras.models import Model\n",
        "from keras.preprocessing import image\n",
        "from keras.applications.vgg16 import preprocess_input\n",
        "from tensorflow.keras.preprocessing.image import load_img, img_to_array"
      ]
    },
    {
      "cell_type": "code",
      "source": [
        "!pip install kaggle"
      ],
      "metadata": {
        "colab": {
          "base_uri": "https://localhost:8080/"
        },
        "id": "9ucMPzdRAwAQ",
        "outputId": "00dea92a-2ad7-4cbd-a314-97c3ca0b73e1"
      },
      "execution_count": null,
      "outputs": [
        {
          "output_type": "stream",
          "name": "stdout",
          "text": [
            "Requirement already satisfied: kaggle in /usr/local/lib/python3.11/dist-packages (1.7.4.5)\n",
            "Requirement already satisfied: bleach in /usr/local/lib/python3.11/dist-packages (from kaggle) (6.2.0)\n",
            "Requirement already satisfied: certifi>=14.05.14 in /usr/local/lib/python3.11/dist-packages (from kaggle) (2025.6.15)\n",
            "Requirement already satisfied: charset-normalizer in /usr/local/lib/python3.11/dist-packages (from kaggle) (3.4.2)\n",
            "Requirement already satisfied: idna in /usr/local/lib/python3.11/dist-packages (from kaggle) (3.10)\n",
            "Requirement already satisfied: protobuf in /usr/local/lib/python3.11/dist-packages (from kaggle) (5.29.5)\n",
            "Requirement already satisfied: python-dateutil>=2.5.3 in /usr/local/lib/python3.11/dist-packages (from kaggle) (2.9.0.post0)\n",
            "Requirement already satisfied: python-slugify in /usr/local/lib/python3.11/dist-packages (from kaggle) (8.0.4)\n",
            "Requirement already satisfied: requests in /usr/local/lib/python3.11/dist-packages (from kaggle) (2.32.3)\n",
            "Requirement already satisfied: setuptools>=21.0.0 in /usr/local/lib/python3.11/dist-packages (from kaggle) (75.2.0)\n",
            "Requirement already satisfied: six>=1.10 in /usr/local/lib/python3.11/dist-packages (from kaggle) (1.17.0)\n",
            "Requirement already satisfied: text-unidecode in /usr/local/lib/python3.11/dist-packages (from kaggle) (1.3)\n",
            "Requirement already satisfied: tqdm in /usr/local/lib/python3.11/dist-packages (from kaggle) (4.67.1)\n",
            "Requirement already satisfied: urllib3>=1.15.1 in /usr/local/lib/python3.11/dist-packages (from kaggle) (2.4.0)\n",
            "Requirement already satisfied: webencodings in /usr/local/lib/python3.11/dist-packages (from kaggle) (0.5.1)\n"
          ]
        }
      ]
    },
    {
      "cell_type": "code",
      "source": [
        "!mkdir ~/.kaggle"
      ],
      "metadata": {
        "id": "3PwSwbHxA9F-"
      },
      "execution_count": null,
      "outputs": []
    },
    {
      "cell_type": "code",
      "source": [
        "!cp kaggle.json ~/.kaggle"
      ],
      "metadata": {
        "colab": {
          "base_uri": "https://localhost:8080/"
        },
        "id": "S6PC9dSSBD5O",
        "outputId": "f9d89047-c86f-4e00-8145-28ef9009ba9d"
      },
      "execution_count": null,
      "outputs": [
        {
          "output_type": "stream",
          "name": "stdout",
          "text": [
            "cp: cannot stat 'kaggle.json': No such file or directory\n"
          ]
        }
      ]
    },
    {
      "cell_type": "code",
      "source": [
        "!kaggle datasets download /content/kaggle.json"
      ],
      "metadata": {
        "colab": {
          "base_uri": "https://localhost:8080/"
        },
        "id": "C3ALtbn0BIz8",
        "outputId": "8f468ae4-3e47-4887-f1aa-94acd7e5ba5c"
      },
      "execution_count": null,
      "outputs": [
        {
          "output_type": "stream",
          "name": "stdout",
          "text": [
            "Invalid dataset specification /content/kaggle.json\n"
          ]
        }
      ]
    },
    {
      "cell_type": "code",
      "source": [
        "!unzip /content/kaggle.json"
      ],
      "metadata": {
        "colab": {
          "base_uri": "https://localhost:8080/"
        },
        "id": "rhLkV-EnCFcM",
        "outputId": "a0a18b66-5d24-41f3-b0c1-5d2dda4dfa3c"
      },
      "execution_count": null,
      "outputs": [
        {
          "output_type": "stream",
          "name": "stdout",
          "text": [
            "Archive:  /content/kaggle.json\n",
            "  inflating: Dataset/Biodegradable Images/TEST_BIODEG_HFL_0.jpeg  \n",
            "  inflating: Dataset/Biodegradable Images/TEST_BIODEG_HFL_1.jpeg  \n",
            "  inflating: Dataset/Biodegradable Images/TEST_BIODEG_HFL_10.jpeg  \n",
            "  inflating: Dataset/Biodegradable Images/TEST_BIODEG_HFL_100.jpeg  \n",
            "  inflating: Dataset/Biodegradable Images/TEST_BIODEG_HFL_1000.jpeg  \n",
            "  inflating: Dataset/Biodegradable Images/TEST_BIODEG_HFL_1004.jpeg  \n",
            "  inflating: Dataset/Biodegradable Images/TEST_BIODEG_HFL_1005.jpeg  \n",
            "  inflating: Dataset/Biodegradable Images/TEST_BIODEG_HFL_1007.jpeg  \n",
            "  inflating: Dataset/Biodegradable Images/TEST_BIODEG_HFL_1008.jpeg  \n",
            "  inflating: Dataset/Biodegradable Images/TEST_BIODEG_HFL_1009.jpeg  \n",
            "  inflating: Dataset/Biodegradable Images/TRAIN.1_BIODEG_ORI_10035.jpg  \n",
            "  inflating: Dataset/Biodegradable Images/TRAIN.2_BIODEG_ORI_10025.jpg  \n",
            "  inflating: Dataset/Biodegradable Images/TRAIN.2_BIODEG_ORI_10043.jpg  \n",
            "  inflating: Dataset/Biodegradable Images/TRAIN.2_BIODEG_ORI_10047.jpg  \n",
            "  inflating: Dataset/Biodegradable Images/TRAIN.2_BIODEG_ORI_10048.jpg  \n",
            "  inflating: Dataset/Biodegradable Images/TRAIN.2_BIODEG_ORI_10049.jpg  \n",
            "  inflating: Dataset/Biodegradable Images/TRAIN.2_BIODEG_ORI_101.jpg  \n",
            "  inflating: Dataset/Biodegradable Images/TRAIN.2_BIODEG_ORI_1010.jpg  \n",
            "  inflating: Dataset/Biodegradable Images/TRAIN.2_BIODEG_ORI_10124.jpg  \n",
            "  inflating: Dataset/Biodegradable Images/TRAIN.2_BIODEG_ORI_10125.jpg  \n",
            "  inflating: Dataset/Biodegradable Images/TRAIN.2_BIODEG_ORI_1013.jpg  \n",
            "  inflating: Dataset/Biodegradable Images/TRAIN.2_BIODEG_ORI_10130.jpg  \n",
            "  inflating: Dataset/Biodegradable Images/TRAIN.2_BIODEG_ORI_10131.jpg  \n",
            "  inflating: Dataset/Biodegradable Images/TRAIN.2_BIODEG_ORI_10133.jpg  \n",
            "  inflating: Dataset/Biodegradable Images/TRAIN.2_BIODEG_ORI_10136.jpg  \n",
            "  inflating: Dataset/Biodegradable Images/TRAIN.2_BIODEG_ORI_10137.jpg  \n",
            "  inflating: Dataset/Biodegradable Images/TRAIN.2_BIODEG_ORI_10139.jpg  \n",
            "  inflating: Dataset/Biodegradable Images/TRAIN.2_BIODEG_ORI_1014.jpg  \n",
            "  inflating: Dataset/Biodegradable Images/TRAIN.2_BIODEG_ORI_10143.jpg  \n",
            "  inflating: Dataset/Biodegradable Images/TRAIN.2_BIODEG_ORI_10149.jpg  \n",
            "  inflating: Dataset/Biodegradable Images/TRAIN.2_BIODEG_ORI_1015.jpg  \n",
            "  inflating: Dataset/Biodegradable Images/TRAIN.2_BIODEG_ORI_10151.jpg  \n",
            "  inflating: Dataset/Biodegradable Images/TRAIN.2_BIODEG_ORI_10154.jpg  \n",
            "  inflating: Dataset/Biodegradable Images/TRAIN.2_BIODEG_ORI_10155.jpg  \n",
            "  inflating: Dataset/Biodegradable Images/TRAIN.2_BIODEG_ORI_10183.jpg  \n",
            "  inflating: Dataset/Biodegradable Images/TRAIN.2_BIODEG_ORI_10206.jpg  \n",
            "  inflating: Dataset/Biodegradable Images/TRAIN.2_BIODEG_ORI_1027.jpg  \n",
            "  inflating: Dataset/Biodegradable Images/TRAIN.2_BIODEG_ORI_10270.jpg  \n",
            "  inflating: Dataset/Biodegradable Images/TRAIN.2_BIODEG_ORI_10287.jpg  \n",
            "  inflating: Dataset/Biodegradable Images/TRAIN.2_BIODEG_ORI_1036.jpg  \n",
            "  inflating: Dataset/Biodegradable Images/TRAIN.2_BIODEG_ORI_1037.jpg  \n",
            "  inflating: Dataset/Biodegradable Images/TRAIN.2_BIODEG_ORI_10384.jpg  \n",
            "  inflating: Dataset/Biodegradable Images/TRAIN.2_BIODEG_ORI_10387.jpg  \n",
            "  inflating: Dataset/Biodegradable Images/TRAIN.2_BIODEG_ORI_10388.jpg  \n",
            "  inflating: Dataset/Biodegradable Images/TRAIN.2_BIODEG_ORI_10389.jpg  \n",
            "  inflating: Dataset/Biodegradable Images/TRAIN.2_BIODEG_ORI_10394.jpg  \n",
            "  inflating: Dataset/Biodegradable Images/TRAIN.2_BIODEG_ORI_104.jpg  \n",
            "  inflating: Dataset/Biodegradable Images/TRAIN.2_BIODEG_ORI_10400.jpg  \n",
            "  inflating: Dataset/Biodegradable Images/TRAIN.2_BIODEG_ORI_10478.jpg  \n",
            "  inflating: Dataset/Biodegradable Images/TRAIN.2_BIODEG_ORI_10657.jpg  \n",
            "  inflating: Dataset/Biodegradable Images/TRAIN.2_BIODEG_ORI_10658.jpg  \n",
            "  inflating: Dataset/Biodegradable Images/TRAIN.2_BIODEG_ORI_10660.jpg  \n",
            "  inflating: Dataset/Biodegradable Images/TRAIN.2_BIODEG_ORI_10661.jpg  \n",
            "  inflating: Dataset/Biodegradable Images/TRAIN.2_BIODEG_ORI_10662.jpg  \n",
            "  inflating: Dataset/Biodegradable Images/TRAIN.2_BIODEG_ORI_10667.jpg  \n",
            "  inflating: Dataset/Biodegradable Images/TRAIN.2_BIODEG_ORI_10703.jpg  \n",
            "  inflating: Dataset/Biodegradable Images/TRAIN.2_BIODEG_ORI_10707.jpg  \n",
            "  inflating: Dataset/Biodegradable Images/TRAIN.2_BIODEG_ORI_10765.jpg  \n",
            "  inflating: Dataset/Biodegradable Images/TRAIN.2_BIODEG_ORI_10768.jpg  \n",
            "  inflating: Dataset/Biodegradable Images/TRAIN.2_BIODEG_ORI_10772.jpg  \n",
            "  inflating: Dataset/Biodegradable Images/TRAIN.2_BIODEG_ORI_10774.jpg  \n",
            "  inflating: Dataset/Biodegradable Images/TRAIN.2_BIODEG_ORI_10777.jpg  \n",
            "  inflating: Dataset/Biodegradable Images/TRAIN.2_BIODEG_ORI_10778.jpg  \n",
            "  inflating: Dataset/Biodegradable Images/TRAIN.2_BIODEG_ORI_10788.jpg  \n",
            "  inflating: Dataset/Biodegradable Images/TRAIN.2_BIODEG_ORI_1083.jpg  \n",
            "  inflating: Dataset/Biodegradable Images/TRAIN.2_BIODEG_ORI_10941.jpg  \n",
            "  inflating: Dataset/Biodegradable Images/TRAIN.2_BIODEG_ORI_10942.jpg  \n",
            "  inflating: Dataset/Biodegradable Images/TRAIN.2_BIODEG_ORI_10943.jpg  \n",
            "  inflating: Dataset/Biodegradable Images/TRAIN.2_BIODEG_ORI_10944.jpg  \n",
            "  inflating: Dataset/Biodegradable Images/TRAIN.2_BIODEG_ORI_10945.jpg  \n",
            "  inflating: Dataset/Biodegradable Images/TRAIN.2_BIODEG_ORI_10946.jpg  \n",
            "  inflating: Dataset/Biodegradable Images/TRAIN.2_BIODEG_ORI_11042.jpg  \n",
            "  inflating: Dataset/Biodegradable Images/TRAIN.2_BIODEG_ORI_1110.jpg  \n",
            "  inflating: Dataset/Biodegradable Images/TRAIN.2_BIODEG_ORI_11167.jpg  \n",
            "  inflating: Dataset/Biodegradable Images/TRAIN.2_BIODEG_ORI_11171.jpg  \n",
            "  inflating: Dataset/Biodegradable Images/TRAIN.2_BIODEG_ORI_11172.jpg  \n",
            "  inflating: Dataset/Biodegradable Images/TRAIN.2_BIODEG_ORI_11175.jpg  \n",
            "  inflating: Dataset/Biodegradable Images/TRAIN.2_BIODEG_ORI_11176.jpg  \n",
            "  inflating: Dataset/Biodegradable Images/TRAIN.2_BIODEG_ORI_11180.jpg  \n",
            "  inflating: Dataset/Biodegradable Images/TRAIN.2_BIODEG_ORI_11197.jpg  \n",
            "  inflating: Dataset/Biodegradable Images/TRAIN.2_BIODEG_ORI_11219.jpg  \n",
            "  inflating: Dataset/Biodegradable Images/TRAIN.2_BIODEG_ORI_11224.jpg  \n",
            "  inflating: Dataset/Biodegradable Images/TRAIN.2_BIODEG_ORI_11242.jpg  \n",
            "  inflating: Dataset/Biodegradable Images/TRAIN.2_BIODEG_ORI_11252.jpg  \n",
            "  inflating: Dataset/Biodegradable Images/TRAIN.2_BIODEG_ORI_11260.jpg  \n",
            "  inflating: Dataset/Biodegradable Images/TRAIN.2_BIODEG_ORI_11271.jpg  \n",
            "  inflating: Dataset/Biodegradable Images/TRAIN.2_BIODEG_ORI_11275.jpg  \n",
            "  inflating: Dataset/Biodegradable Images/TRAIN.2_BIODEG_ORI_11276.jpg  \n",
            "  inflating: Dataset/Biodegradable Images/TRAIN.2_BIODEG_ORI_11278.jpg  \n",
            "  inflating: Dataset/Biodegradable Images/TRAIN.2_BIODEG_ORI_11280.jpg  \n",
            "  inflating: Dataset/Biodegradable Images/TRAIN.2_BIODEG_ORI_11281.jpg  \n",
            "  inflating: Dataset/Biodegradable Images/TRAIN.2_BIODEG_ORI_11282.jpg  \n",
            "  inflating: Dataset/Biodegradable Images/TRAIN.2_BIODEG_ORI_11291.jpg  \n",
            "  inflating: Dataset/Biodegradable Images/TRAIN.2_BIODEG_ORI_11292.jpg  \n",
            "  inflating: Dataset/Biodegradable Images/TRAIN.2_BIODEG_ORI_11293.jpg  \n",
            "  inflating: Dataset/Biodegradable Images/TRAIN.2_BIODEG_ORI_11295.jpg  \n",
            "  inflating: Dataset/Biodegradable Images/TRAIN.2_BIODEG_ORI_11297.jpg  \n",
            "  inflating: Dataset/Biodegradable Images/TRAIN.2_BIODEG_ORI_113.jpg  \n",
            "  inflating: Dataset/Biodegradable Images/TRAIN.2_BIODEG_ORI_1130.jpg  \n",
            "  inflating: Dataset/Biodegradable Images/TRAIN.2_BIODEG_ORI_11300.jpg  \n",
            "  inflating: Dataset/Biodegradable Images/TRAIN.2_BIODEG_ORI_11301.jpg  \n",
            "  inflating: Dataset/Biodegradable Images/TRAIN.2_BIODEG_ORI_11303.jpg  \n",
            "  inflating: Dataset/Biodegradable Images/TRAIN.2_BIODEG_ORI_1131.jpg  \n",
            "  inflating: Dataset/Biodegradable Images/TRAIN.2_BIODEG_ORI_11312.jpg  \n",
            "  inflating: Dataset/Biodegradable Images/TRAIN.2_BIODEG_ORI_11313.jpg  \n",
            "  inflating: Dataset/Biodegradable Images/TRAIN.2_BIODEG_ORI_11315.jpg  \n",
            "  inflating: Dataset/Biodegradable Images/TRAIN.2_BIODEG_ORI_1132.jpg  \n",
            "  inflating: Dataset/Biodegradable Images/TRAIN.2_BIODEG_ORI_11324.jpg  \n",
            "  inflating: Dataset/Biodegradable Images/TRAIN.2_BIODEG_ORI_1133.jpg  \n",
            "  inflating: Dataset/Biodegradable Images/TRAIN.2_BIODEG_ORI_11348.jpg  \n",
            "  inflating: Dataset/Biodegradable Images/TRAIN.2_BIODEG_ORI_11358.jpg  \n",
            "  inflating: Dataset/Biodegradable Images/TRAIN.2_BIODEG_ORI_11370.jpg  \n",
            "  inflating: Dataset/Biodegradable Images/TRAIN.2_BIODEG_ORI_11378.jpg  \n",
            "  inflating: Dataset/Biodegradable Images/TRAIN.2_BIODEG_ORI_11405.jpg  \n",
            "  inflating: Dataset/Biodegradable Images/TRAIN.2_BIODEG_ORI_11406.jpg  \n",
            "  inflating: Dataset/Biodegradable Images/TRAIN.2_BIODEG_ORI_11418.jpg  \n",
            "  inflating: Dataset/Biodegradable Images/TRAIN.2_BIODEG_ORI_11499.jpg  \n",
            "  inflating: Dataset/Biodegradable Images/TRAIN.2_BIODEG_ORI_11524.jpg  \n",
            "  inflating: Dataset/Biodegradable Images/TRAIN.2_BIODEG_ORI_1159.jpg  \n",
            "  inflating: Dataset/Biodegradable Images/TRAIN.2_BIODEG_ORI_11643.jpg  \n",
            "  inflating: Dataset/Biodegradable Images/TRAIN.2_BIODEG_ORI_11681 (1).jpg  \n",
            "  inflating: Dataset/Biodegradable Images/TRAIN.2_BIODEG_ORI_11681.jpg  \n",
            "  inflating: Dataset/Biodegradable Images/TRAIN.2_BIODEG_ORI_11682.jpg  \n",
            "  inflating: Dataset/Biodegradable Images/TRAIN.2_BIODEG_ORI_11687.jpg  \n",
            "  inflating: Dataset/Biodegradable Images/TRAIN.2_BIODEG_ORI_11688.jpg  \n",
            "  inflating: Dataset/Biodegradable Images/TRAIN.2_BIODEG_ORI_11689.jpg  \n",
            "  inflating: Dataset/Biodegradable Images/TRAIN.2_BIODEG_ORI_1170.jpg  \n",
            "  inflating: Dataset/Biodegradable Images/TRAIN.2_BIODEG_ORI_11744.jpg  \n",
            "  inflating: Dataset/Biodegradable Images/TRAIN.2_BIODEG_ORI_11932.jpg  \n",
            "  inflating: Dataset/Biodegradable Images/TRAIN.2_BIODEG_ORI_11935.jpg  \n",
            "  inflating: Dataset/Recyclable Images/cardboard10.jpeg  \n",
            "  inflating: Dataset/Recyclable Images/cardboard102.jpeg  \n",
            "  inflating: Dataset/Recyclable Images/cardboard103.jpeg  \n",
            "  inflating: Dataset/Recyclable Images/cardboard107.jpeg  \n",
            "  inflating: Dataset/Recyclable Images/cardboard108.jpeg  \n",
            "  inflating: Dataset/Recyclable Images/cardboard11.jpeg  \n",
            "  inflating: Dataset/Recyclable Images/cardboard113.jpeg  \n",
            "  inflating: Dataset/Recyclable Images/cardboard115.jpeg  \n",
            "  inflating: Dataset/Recyclable Images/cardboard12.jpeg  \n",
            "  inflating: Dataset/Recyclable Images/cardboard126.jpeg  \n",
            "  inflating: Dataset/Recyclable Images/cardboard127.jpeg  \n",
            "  inflating: Dataset/Recyclable Images/cardboard13.jpeg  \n",
            "  inflating: Dataset/Recyclable Images/cardboard130.jpeg  \n",
            "  inflating: Dataset/Recyclable Images/cardboard131.jpeg  \n",
            "  inflating: Dataset/Recyclable Images/cardboard134.jpeg  \n",
            "  inflating: Dataset/Recyclable Images/cardboard136.jpeg  \n",
            "  inflating: Dataset/Recyclable Images/cardboard138.jpeg  \n",
            "  inflating: Dataset/Recyclable Images/cardboard145.jpeg  \n",
            "  inflating: Dataset/Recyclable Images/cardboard146.jpeg  \n",
            "  inflating: Dataset/Recyclable Images/cardboard149.jpeg  \n",
            "  inflating: Dataset/Recyclable Images/cardboard151.jpeg  \n",
            "  inflating: Dataset/Recyclable Images/cardboard152.jpeg  \n",
            "  inflating: Dataset/Recyclable Images/cardboard153.jpeg  \n",
            "  inflating: Dataset/Recyclable Images/cardboard158.jpeg  \n",
            "  inflating: Dataset/Recyclable Images/cardboard160.jpeg  \n",
            "  inflating: Dataset/Recyclable Images/cardboard165.jpeg  \n",
            "  inflating: Dataset/Recyclable Images/glass101.jpeg  \n",
            "  inflating: Dataset/Recyclable Images/glass104.jpeg  \n",
            "  inflating: Dataset/Recyclable Images/glass106.jpeg  \n",
            "  inflating: Dataset/Recyclable Images/glass110.jpeg  \n",
            "  inflating: Dataset/Recyclable Images/glass111.jpeg  \n",
            "  inflating: Dataset/Recyclable Images/glass121.jpeg  \n",
            "  inflating: Dataset/Recyclable Images/glass123.jpeg  \n",
            "  inflating: Dataset/Recyclable Images/glass128.jpeg  \n",
            "  inflating: Dataset/Recyclable Images/glass137.jpeg  \n",
            "  inflating: Dataset/Recyclable Images/glass150.jpeg  \n",
            "  inflating: Dataset/Recyclable Images/glass151.jpeg  \n",
            "  inflating: Dataset/Recyclable Images/glass152.jpeg  \n",
            "  inflating: Dataset/Recyclable Images/glass153.jpeg  \n",
            "  inflating: Dataset/Recyclable Images/glass156.jpeg  \n",
            "  inflating: Dataset/Recyclable Images/glass16.jpeg  \n",
            "  inflating: Dataset/Recyclable Images/glass163.jpeg  \n",
            "  inflating: Dataset/Recyclable Images/glass169.jpeg  \n",
            "  inflating: Dataset/Recyclable Images/glass176.jpeg  \n",
            "  inflating: Dataset/Recyclable Images/glass18.jpeg  \n",
            "  inflating: Dataset/Recyclable Images/glass180.jpeg  \n",
            "  inflating: Dataset/Recyclable Images/glass189.jpeg  \n",
            "  inflating: Dataset/Recyclable Images/glass19.jpeg  \n",
            "  inflating: Dataset/Recyclable Images/glass193.jpeg  \n",
            "  inflating: Dataset/Recyclable Images/glass194.jpeg  \n",
            "  inflating: Dataset/Recyclable Images/glass202.jpeg  \n",
            "  inflating: Dataset/Recyclable Images/glass205.jpeg  \n",
            "  inflating: Dataset/Recyclable Images/metal100.jpeg  \n",
            "  inflating: Dataset/Recyclable Images/metal101.jpeg  \n",
            "  inflating: Dataset/Recyclable Images/metal102.jpeg  \n",
            "  inflating: Dataset/Recyclable Images/metal103.jpeg  \n",
            "  inflating: Dataset/Recyclable Images/metal110.jpeg  \n",
            "  inflating: Dataset/Recyclable Images/metal112.jpeg  \n",
            "  inflating: Dataset/Recyclable Images/metal114.jpeg  \n",
            "  inflating: Dataset/Recyclable Images/metal115.jpeg  \n",
            "  inflating: Dataset/Recyclable Images/metal116.jpeg  \n",
            "  inflating: Dataset/Recyclable Images/metal118.jpeg  \n",
            "  inflating: Dataset/Recyclable Images/metal120.jpeg  \n",
            "  inflating: Dataset/Recyclable Images/metal123.jpeg  \n",
            "  inflating: Dataset/Recyclable Images/metal125.jpeg  \n",
            "  inflating: Dataset/Recyclable Images/metal130.jpeg  \n",
            "  inflating: Dataset/Recyclable Images/metal133.jpeg  \n",
            "  inflating: Dataset/Recyclable Images/metal137.jpeg  \n",
            "  inflating: Dataset/Recyclable Images/metal141.jpeg  \n",
            "  inflating: Dataset/Recyclable Images/metal154.jpeg  \n",
            "  inflating: Dataset/Recyclable Images/metal157.jpeg  \n",
            "  inflating: Dataset/Recyclable Images/metal171.jpeg  \n",
            "  inflating: Dataset/Recyclable Images/metal174.jpeg  \n",
            "  inflating: Dataset/Recyclable Images/metal179.jpeg  \n",
            "  inflating: Dataset/Recyclable Images/metal18.jpeg  \n",
            "  inflating: Dataset/Recyclable Images/metal185.jpeg  \n",
            "  inflating: Dataset/Recyclable Images/metal190.jpeg  \n",
            "  inflating: Dataset/Recyclable Images/metal198.jpeg  \n",
            "  inflating: Dataset/Recyclable Images/paper100.jpeg  \n",
            "  inflating: Dataset/Recyclable Images/paper103.jpeg  \n",
            "  inflating: Dataset/Recyclable Images/paper107.jpeg  \n",
            "  inflating: Dataset/Recyclable Images/paper11.jpeg  \n",
            "  inflating: Dataset/Recyclable Images/paper110.jpeg  \n",
            "  inflating: Dataset/Recyclable Images/paper115.jpeg  \n",
            "  inflating: Dataset/Recyclable Images/paper116.jpeg  \n",
            "  inflating: Dataset/Recyclable Images/paper119.jpeg  \n",
            "  inflating: Dataset/Recyclable Images/paper122.jpeg  \n",
            "  inflating: Dataset/Recyclable Images/paper123.jpeg  \n",
            "  inflating: Dataset/Recyclable Images/paper124.jpeg  \n",
            "  inflating: Dataset/Recyclable Images/paper126.jpeg  \n",
            "  inflating: Dataset/Recyclable Images/paper134.jpeg  \n",
            "  inflating: Dataset/Recyclable Images/paper136.jpeg  \n",
            "  inflating: Dataset/Recyclable Images/paper137.jpeg  \n",
            "  inflating: Dataset/Recyclable Images/paper145.jpeg  \n",
            "  inflating: Dataset/Recyclable Images/paper149.jpeg  \n",
            "  inflating: Dataset/Recyclable Images/paper15.jpeg  \n",
            "  inflating: Dataset/Recyclable Images/paper152.jpeg  \n",
            "  inflating: Dataset/Recyclable Images/paper153.jpeg  \n",
            "  inflating: Dataset/Recyclable Images/paper157.jpeg  \n",
            "  inflating: Dataset/Recyclable Images/paper165.jpeg  \n",
            "  inflating: Dataset/Recyclable Images/paper166.jpeg  \n",
            "  inflating: Dataset/Recyclable Images/paper173.jpeg  \n",
            "  inflating: Dataset/Recyclable Images/paper192.jpeg  \n",
            "  inflating: Dataset/Recyclable Images/paper198.jpeg  \n",
            "  inflating: Dataset/Recyclable Images/plastic100.jpeg  \n",
            "  inflating: Dataset/Recyclable Images/plastic103.jpeg  \n",
            "  inflating: Dataset/Recyclable Images/plastic105.jpeg  \n",
            "  inflating: Dataset/Recyclable Images/plastic107.jpeg  \n",
            "  inflating: Dataset/Recyclable Images/plastic108.jpeg  \n",
            "  inflating: Dataset/Recyclable Images/plastic116.jpeg  \n",
            "  inflating: Dataset/Recyclable Images/plastic122.jpeg  \n",
            "  inflating: Dataset/Recyclable Images/plastic127.jpeg  \n",
            "  inflating: Dataset/Recyclable Images/plastic130.jpeg  \n",
            "  inflating: Dataset/Recyclable Images/plastic135.jpeg  \n",
            "  inflating: Dataset/Recyclable Images/plastic14.jpeg  \n",
            "  inflating: Dataset/Recyclable Images/plastic15.jpeg  \n",
            "  inflating: Dataset/Recyclable Images/plastic151.jpeg  \n",
            "  inflating: Dataset/Recyclable Images/plastic152.jpeg  \n",
            "  inflating: Dataset/Recyclable Images/plastic157.jpeg  \n",
            "  inflating: Dataset/Recyclable Images/plastic160.jpeg  \n",
            "  inflating: Dataset/Recyclable Images/plastic165.jpeg  \n",
            "  inflating: Dataset/Recyclable Images/plastic167.jpeg  \n",
            "  inflating: Dataset/Recyclable Images/plastic171.jpeg  \n",
            "  inflating: Dataset/Recyclable Images/plastic18.jpeg  \n",
            "  inflating: Dataset/Recyclable Images/plastic184.jpeg  \n",
            "  inflating: Dataset/Recyclable Images/plastic186.jpeg  \n",
            "  inflating: Dataset/Recyclable Images/plastic188.jpeg  \n",
            "  inflating: Dataset/Recyclable Images/plastic189.jpeg  \n",
            "  inflating: Dataset/Recyclable Images/plastic202.jpeg  \n",
            "  inflating: Dataset/Recyclable Images/plastic205.jpeg  \n",
            "  inflating: Dataset/Trash Images/TRAIN.2_NBIODEG_CCW_0.jpg  \n",
            "  inflating: Dataset/Trash Images/TRAIN.2_NBIODEG_CCW_1.jpg  \n",
            "  inflating: Dataset/Trash Images/TRAIN.2_NBIODEG_CCW_100.jpg  \n",
            "  inflating: Dataset/Trash Images/TRAIN.2_NBIODEG_CCW_1000.jpg  \n",
            "  inflating: Dataset/Trash Images/TRAIN.2_NBIODEG_CCW_1004.jpg  \n",
            "  inflating: Dataset/Trash Images/TRAIN.2_NBIODEG_CCW_1007.jpg  \n",
            "  inflating: Dataset/Trash Images/TRAIN.4_NBIODEG_CCW_1237.jpg  \n",
            "  inflating: Dataset/Trash Images/TRAIN.4_NBIODEG_CCW_1240.jpg  \n",
            "  inflating: Dataset/Trash Images/TRAIN.4_NBIODEG_CCW_1491.jpg  \n",
            "  inflating: Dataset/Trash Images/TRAIN.4_NBIODEG_CCW_1493.jpg  \n",
            "  inflating: Dataset/Trash Images/TRAIN.4_NBIODEG_CCW_1496.jpg  \n",
            "  inflating: Dataset/Trash Images/TRAIN.4_NBIODEG_CCW_1503.jpg  \n",
            "  inflating: Dataset/Trash Images/TRAIN.4_NBIODEG_CCW_1506.jpg  \n",
            "  inflating: Dataset/Trash Images/TRAIN.4_NBIODEG_CCW_1520.jpg  \n",
            "  inflating: Dataset/Trash Images/TRAIN.4_NBIODEG_CCW_1536.jpg  \n",
            "  inflating: Dataset/Trash Images/TRAIN.4_NBIODEG_CCW_1777.jpg  \n",
            "  inflating: Dataset/Trash Images/TRAIN.4_NBIODEG_CCW_1778.jpg  \n",
            "  inflating: Dataset/Trash Images/TRAIN.4_NBIODEG_CCW_1895.jpg  \n",
            "  inflating: Dataset/Trash Images/TRAIN.4_NBIODEG_CCW_2209.jpg  \n",
            "  inflating: Dataset/Trash Images/TRAIN.4_NBIODEG_CCW_2210.jpg  \n",
            "  inflating: Dataset/Trash Images/TRAIN.4_NBIODEG_CCW_2313.jpg  \n",
            "  inflating: Dataset/Trash Images/TRAIN.4_NBIODEG_CCW_2316.jpg  \n",
            "  inflating: Dataset/Trash Images/TRAIN.4_NBIODEG_CCW_2348.jpg  \n",
            "  inflating: Dataset/Trash Images/TRAIN.4_NBIODEG_CCW_2372.jpg  \n",
            "  inflating: Dataset/Trash Images/trash1.jpeg  \n",
            "  inflating: Dataset/Trash Images/trash10.jpeg  \n",
            "  inflating: Dataset/Trash Images/trash102.jpeg  \n",
            "  inflating: Dataset/Trash Images/trash105.jpeg  \n",
            "  inflating: Dataset/Trash Images/trash107.jpeg  \n",
            "  inflating: Dataset/Trash Images/trash108.jpeg  \n",
            "  inflating: Dataset/Trash Images/trash109.jpeg  \n",
            "  inflating: Dataset/Trash Images/trash11.jpeg  \n",
            "  inflating: Dataset/Trash Images/trash110.jpeg  \n",
            "  inflating: Dataset/Trash Images/trash111.jpeg  \n",
            "  inflating: Dataset/Trash Images/trash112.jpeg  \n",
            "  inflating: Dataset/Trash Images/trash114.jpeg  \n",
            "  inflating: Dataset/Trash Images/trash115.jpeg  \n",
            "  inflating: Dataset/Trash Images/trash116.jpeg  \n",
            "  inflating: Dataset/Trash Images/trash117.jpeg  \n",
            "  inflating: Dataset/Trash Images/trash118.jpeg  \n",
            "  inflating: Dataset/Trash Images/trash119.jpeg  \n",
            "  inflating: Dataset/Trash Images/trash12.jpeg  \n",
            "  inflating: Dataset/Trash Images/trash120.jpeg  \n",
            "  inflating: Dataset/Trash Images/trash121.jpeg  \n",
            "  inflating: Dataset/Trash Images/trash122.jpeg  \n",
            "  inflating: Dataset/Trash Images/trash123.jpeg  \n",
            "  inflating: Dataset/Trash Images/trash124.jpeg  \n",
            "  inflating: Dataset/Trash Images/trash125.jpeg  \n",
            "  inflating: Dataset/Trash Images/trash126.jpeg  \n",
            "  inflating: Dataset/Trash Images/trash127.jpeg  \n",
            "  inflating: Dataset/Trash Images/trash128.jpeg  \n",
            "  inflating: Dataset/Trash Images/trash129.jpeg  \n",
            "  inflating: Dataset/Trash Images/trash130.jpeg  \n",
            "  inflating: Dataset/Trash Images/trash132.jpeg  \n",
            "  inflating: Dataset/Trash Images/trash133.jpeg  \n",
            "  inflating: Dataset/Trash Images/trash134.jpeg  \n",
            "  inflating: Dataset/Trash Images/trash135.jpeg  \n",
            "  inflating: Dataset/Trash Images/trash136.jpeg  \n",
            "  inflating: Dataset/Trash Images/trash137.jpeg  \n",
            "  inflating: Dataset/Trash Images/trash14.jpeg  \n",
            "  inflating: Dataset/Trash Images/trash15.jpeg  \n",
            "  inflating: Dataset/Trash Images/trash16.jpeg  \n",
            "  inflating: Dataset/Trash Images/trash18.jpeg  \n",
            "  inflating: Dataset/Trash Images/trash19.jpeg  \n",
            "  inflating: Dataset/Trash Images/trash2.jpeg  \n",
            "  inflating: Dataset/Trash Images/trash20.jpeg  \n",
            "  inflating: Dataset/Trash Images/trash21.jpeg  \n",
            "  inflating: Dataset/Trash Images/trash22.jpeg  \n",
            "  inflating: Dataset/Trash Images/trash23.jpeg  \n",
            "  inflating: Dataset/Trash Images/trash24.jpeg  \n",
            "  inflating: Dataset/Trash Images/trash25.jpeg  \n",
            "  inflating: Dataset/Trash Images/trash27.jpeg  \n",
            "  inflating: Dataset/Trash Images/trash28.jpeg  \n",
            "  inflating: Dataset/Trash Images/trash29.jpeg  \n",
            "  inflating: Dataset/Trash Images/trash3.jpeg  \n",
            "  inflating: Dataset/Trash Images/trash32.jpeg  \n",
            "  inflating: Dataset/Trash Images/trash33.jpeg  \n",
            "  inflating: Dataset/Trash Images/trash34.jpeg  \n",
            "  inflating: Dataset/Trash Images/trash35.jpeg  \n",
            "  inflating: Dataset/Trash Images/trash36.jpeg  \n",
            "  inflating: Dataset/Trash Images/trash37.jpeg  \n",
            "  inflating: Dataset/Trash Images/trash38.jpeg  \n",
            "  inflating: Dataset/Trash Images/trash39.jpeg  \n",
            "  inflating: Dataset/Trash Images/trash4.jpeg  \n",
            "  inflating: Dataset/Trash Images/trash40.jpeg  \n",
            "  inflating: Dataset/Trash Images/trash41.jpeg  \n",
            "  inflating: Dataset/Trash Images/trash43.jpeg  \n",
            "  inflating: Dataset/Trash Images/trash44.jpeg  \n",
            "  inflating: Dataset/Trash Images/trash45.jpeg  \n",
            "  inflating: Dataset/Trash Images/trash46.jpeg  \n",
            "  inflating: Dataset/Trash Images/trash47.jpeg  \n",
            "  inflating: Dataset/Trash Images/trash48.jpeg  \n",
            "  inflating: Dataset/Trash Images/trash5.jpeg  \n",
            "  inflating: Dataset/Trash Images/trash50.jpeg  \n",
            "  inflating: Dataset/Trash Images/trash52.jpeg  \n",
            "  inflating: Dataset/Trash Images/trash53.jpeg  \n",
            "  inflating: Dataset/Trash Images/trash54.jpeg  \n",
            "  inflating: Dataset/Trash Images/trash57.jpeg  \n",
            "  inflating: Dataset/Trash Images/trash6.jpeg  \n",
            "  inflating: Dataset/Trash Images/trash60.jpeg  \n",
            "  inflating: Dataset/Trash Images/trash62.jpeg  \n",
            "  inflating: Dataset/Trash Images/trash63.jpeg  \n",
            "  inflating: Dataset/Trash Images/trash64.jpeg  \n",
            "  inflating: Dataset/Trash Images/trash66.jpeg  \n",
            "  inflating: Dataset/Trash Images/trash68.jpeg  \n",
            "  inflating: Dataset/Trash Images/trash69.jpeg  \n",
            "  inflating: Dataset/Trash Images/trash70.jpeg  \n",
            "  inflating: Dataset/Trash Images/trash71.jpeg  \n",
            "  inflating: Dataset/Trash Images/trash72.jpeg  \n",
            "  inflating: Dataset/Trash Images/trash73.jpeg  \n",
            "  inflating: Dataset/Trash Images/trash75.jpeg  \n",
            "  inflating: Dataset/Trash Images/trash77.jpeg  \n",
            "  inflating: Dataset/Trash Images/trash78.jpeg  \n",
            "  inflating: Dataset/Trash Images/trash79.jpeg  \n",
            "  inflating: Dataset/Trash Images/trash80.jpeg  \n",
            "  inflating: Dataset/Trash Images/trash82.jpeg  \n",
            "  inflating: Dataset/Trash Images/trash83.jpeg  \n",
            "  inflating: Dataset/Trash Images/trash85.jpeg  \n",
            "  inflating: Dataset/Trash Images/trash86.jpeg  \n",
            "  inflating: Dataset/Trash Images/trash87.jpeg  \n",
            "  inflating: Dataset/Trash Images/trash88.jpeg  \n",
            "  inflating: Dataset/Trash Images/trash9.jpeg  \n",
            "  inflating: Dataset/Trash Images/trash90.jpeg  \n",
            "  inflating: Dataset/Trash Images/trash91.jpeg  \n",
            "  inflating: Dataset/Trash Images/trash92.jpeg  \n",
            "  inflating: Dataset/Trash Images/trash93.jpeg  \n",
            "  inflating: Dataset/Trash Images/trash94.jpeg  \n",
            "  inflating: Dataset/Trash Images/trash97.jpeg  \n",
            "  inflating: Dataset/Trash Images/trash98.jpeg  \n",
            "  inflating: Dataset/Trash Images/trash99.jpeg  \n"
          ]
        }
      ]
    },
    {
      "cell_type": "code",
      "source": [
        "import os\n",
        "import shutil\n",
        "from sklearn.model_selection import train_test_split\n",
        "\n",
        "# Set the path to the dataset\n",
        "dataset_dir = '/content/Dataset'\n",
        "classes = os.listdir(dataset_dir)\n",
        "\n",
        "# Create directories for train, val, and test sets\n",
        "output_dir = 'output_dataset'\n",
        "os.makedirs(output_dir, exist_ok=True)\n",
        "os.makedirs(os.path.join(output_dir, 'train'), exist_ok=True)\n",
        "os.makedirs(os.path.join(output_dir, 'val'), exist_ok=True)\n",
        "os.makedirs(os.path.join(output_dir, 'test'), exist_ok=True)\n",
        "\n",
        "for cls in classes:\n",
        "    os.makedirs(os.path.join(output_dir, 'train', cls), exist_ok=True)\n",
        "    os.makedirs(os.path.join(output_dir, 'val', cls), exist_ok=True)\n",
        "    os.makedirs(os.path.join(output_dir, 'test', cls), exist_ok=True)\n",
        "\n",
        "    class_dir = os.path.join(dataset_dir, cls)\n",
        "    images = os.listdir(class_dir)\n",
        "\n",
        "    print(cls, len(images))\n",
        "\n",
        "    train_and_val_images, test_images = train_test_split(images, test_size=0.2, random_state=42)\n",
        "    train_images, val_images = train_test_split(train_and_val_images, test_size=0.25, random_state=42)\n",
        "    # 0.25 × 0.8 = 0.2\n",
        "\n",
        "    # Copy images to respective directories\n",
        "    for img in train_images:\n",
        "        shutil.copy(os.path.join(class_dir, img), os.path.join(output_dir, 'train', cls, img))\n",
        "    for img in val_images:\n",
        "        shutil.copy(os.path.join(class_dir, img), os.path.join(output_dir, 'val', cls, img))\n",
        "    for img in test_images:\n",
        "        shutil.copy(os.path.join(class_dir, img), os.path.join(output_dir, 'test', cls, img))\n",
        "\n",
        "print(\"Dataset split into training, validation, and test sets.\")\n"
      ],
      "metadata": {
        "colab": {
          "base_uri": "https://localhost:8080/"
        },
        "id": "GJmqBJiJDFTK",
        "outputId": "068c29c7-f359-4b60-b126-33b65c23899f"
      },
      "execution_count": null,
      "outputs": [
        {
          "output_type": "stream",
          "name": "stdout",
          "text": [
            "Trash Images 130\n",
            "Biodegradable Images 130\n",
            "Recyclable Images 130\n",
            "Dataset split into training, validation, and test sets.\n"
          ]
        }
      ]
    },
    {
      "cell_type": "code",
      "source": [
        "import os\n",
        "from tensorflow.keras.preprocessing.image import ImageDataGenerator\n",
        "\n",
        "# Define directories\n",
        "dataset_dir = '/content/output_dataset'\n",
        "train_dir = os.path.join(dataset_dir, 'train')\n",
        "val_dir = os.path.join(dataset_dir, 'val')\n",
        "test_dir = os.path.join(dataset_dir, 'test')\n",
        "\n",
        "# Define image size expected by the pre-trained model\n",
        "IMG_SIZE = (224, 224)  # Common size for many models like ResNet, VGG, MobileNet\n",
        "\n",
        "# Create ImageDataGenerators for resizing and augmenting the images\n",
        "train_datagen = ImageDataGenerator(\n",
        "    rescale=1./255,\n",
        "    rotation_range=20,\n",
        "    width_shift_range=0.2,\n",
        "    height_shift_range=0.2,\n",
        "    shear_range=0.2,\n",
        "    zoom_range=0.2,\n",
        "    horizontal_flip=True,\n",
        "    fill_mode='nearest'\n",
        ")\n",
        "\n",
        "val_test_datagen = ImageDataGenerator(rescale=1./255)\n",
        "\n",
        "# Load and resize the images from directories\n",
        "train_generator = train_datagen.flow_from_directory(\n",
        "    train_dir,\n",
        "    target_size=IMG_SIZE,\n",
        "    batch_size=32,\n",
        "    class_mode='binary'  # Assuming binary classification for healthy vs rotten\n",
        ")\n",
        "\n",
        "val_generator = val_test_datagen.flow_from_directory(\n",
        "    val_dir,\n",
        "    target_size=IMG_SIZE,\n",
        "    batch_size=32,\n",
        "    class_mode='binary'\n",
        ")\n",
        "\n",
        "test_generator = val_test_datagen.flow_from_directory(\n",
        "    test_dir,\n",
        "    target_size=IMG_SIZE,\n",
        "    batch_size=32,\n",
        "    class_mode='binary',\n",
        "    shuffle=False  # Do not shuffle test data\n",
        ")\n",
        "\n",
        "# Print class indices for reference\n",
        "print(train_generator.class_indices)\n",
        "print(val_generator.class_indices)\n",
        "print(test_generator.class_indices)"
      ],
      "metadata": {
        "colab": {
          "base_uri": "https://localhost:8080/"
        },
        "id": "L6ObJEBIGSvK",
        "outputId": "c66d7c46-3d82-42d7-8ab0-9d42c95441af"
      },
      "execution_count": null,
      "outputs": [
        {
          "output_type": "stream",
          "name": "stdout",
          "text": [
            "Found 234 images belonging to 3 classes.\n",
            "Found 78 images belonging to 3 classes.\n",
            "Found 78 images belonging to 3 classes.\n",
            "{'Biodegradable Images': 0, 'Recyclable Images': 1, 'Trash Images': 2}\n",
            "{'Biodegradable Images': 0, 'Recyclable Images': 1, 'Trash Images': 2}\n",
            "{'Biodegradable Images': 0, 'Recyclable Images': 1, 'Trash Images': 2}\n"
          ]
        }
      ]
    },
    {
      "cell_type": "code",
      "source": [
        "import random\n",
        "from IPython.display import Image, display\n",
        "import os\n",
        "\n",
        "# Specify the path to your image folder\n",
        "folder_path = '/content/output_dataset/train/Biodegradable Images'  # Replace with the actual path to your image folder\n",
        "\n",
        "# List all files in the folder\n",
        "image_files = [f for f in os.listdir(folder_path) if f.endswith(('.jpg', '.png', '.jpeg'))]\n",
        "\n",
        "# Select a random image from the list\n",
        "selected_image = random.choice(image_files)\n",
        "\n",
        "# Display the randomly selected image\n",
        "image_path = os.path.join(folder_path, selected_image)\n",
        "display(Image(filename=image_path))"
      ],
      "metadata": {
        "colab": {
          "base_uri": "https://localhost:8080/",
          "height": 217
        },
        "id": "8yx6VC8LGkws",
        "outputId": "cb08debc-466a-471c-feef-261642176681"
      },
      "execution_count": null,
      "outputs": [
        {
          "output_type": "display_data",
          "data": {
            "image/jpeg": "[encoded data removed]",
            "text/plain": [
              "<IPython.core.display.Image object>"
            ]
          },
          "metadata": {}
        }
      ]
    },
    {
      "cell_type": "code",
      "source": [
        "import os\n",
        "import random\n",
        "from IPython.display import Image, display\n",
        "\n",
        "# Specify the path to your image folder\n",
        "folder_path = '/content/output_dataset/test/Recyclable Images'  # Replace with the actual path to your image folder\n",
        "\n",
        "# List all files in the folder\n",
        "image_files = [f for f in os.listdir(folder_path) if f.endswith(('.jpg', '.png', '.jpeg'))]\n",
        "\n",
        "# Select a random image from the list\n",
        "selected_image = random.choice(image_files)\n",
        "\n",
        "# Display the randomly selected image\n",
        "image_path = os.path.join(folder_path, selected_image)\n",
        "display(Image(filename=image_path))"
      ],
      "metadata": {
        "colab": {
          "base_uri": "https://localhost:8080/",
          "height": 401
        },
        "id": "oL2nfAeFG1d2",
        "outputId": "c235f5c3-f3ee-4318-b73e-a857dd1fd7d2"
      },
      "execution_count": null,
      "outputs": [
        {
          "output_type": "display_data",
          "data": {
            "image/jpeg": "[encoded data removed]",
            "text/plain": [
              "<IPython.core.display.Image object>"
            ]
          },
          "metadata": {}
        }
      ]
    },
    {
      "cell_type": "code",
      "source": [
        "import os\n",
        "import random\n",
        "from IPython.display import Image, display\n",
        "\n",
        "# Specify the path to your image folder\n",
        "folder_path = '/content/output_dataset/test/Trash Images'  # Replace with the actual path to your image folder\n",
        "\n",
        "# List all files in the folder\n",
        "image_files = [f for f in os.listdir(folder_path) if f.endswith(('.jpg', '.png', '.jpeg'))]\n",
        "\n",
        "# Select a random image from the list\n",
        "selected_image = random.choice(image_files)\n",
        "\n",
        "# Display the randomly selected image\n",
        "image_path = os.path.join(folder_path, selected_image)\n",
        "display(Image(filename=image_path))"
      ],
      "metadata": {
        "colab": {
          "base_uri": "https://localhost:8080/",
          "height": 401
        },
        "id": "ac02Y3JxHB3Q",
        "outputId": "0657b06f-2894-4a37-bd4e-f7f48d224e3f"
      },
      "execution_count": null,
      "outputs": [
        {
          "output_type": "display_data",
          "data": {
            "image/jpeg": "[encoded data removed]",
            "text/plain": [
              "<IPython.core.display.Image object>"
            ]
          },
          "metadata": {}
        }
      ]
    },
    {
      "cell_type": "code",
      "source": [
        "import os\n",
        "import random\n",
        "from IPython.display import Image, display\n",
        "\n",
        "# Specify the path to your image folder\n",
        "folder_path = '/content/output_dataset/train/Trash Images'  # Replace with the actual path to your image folder\n",
        "\n",
        "# List all files in the folder\n",
        "image_files = [f for f in os.listdir(folder_path) if f.endswith(('.jpg', '.png', '.jpeg'))]\n",
        "\n",
        "# Select a random image from the list\n",
        "selected_image = random.choice(image_files)\n",
        "\n",
        "# Display the randomly selected image\n",
        "image_path = os.path.join(folder_path, selected_image)\n",
        "display(Image(filename=image_path))"
      ],
      "metadata": {
        "colab": {
          "base_uri": "https://localhost:8080/",
          "height": 401
        },
        "id": "C0bVc0sNHfhl",
        "outputId": "5f772450-b72b-4d8d-e6fa-d3825b366f63"
      },
      "execution_count": null,
      "outputs": [
        {
          "output_type": "display_data",
          "data": {
            "image/jpeg": "[encoded data removed]",
            "text/plain": [
              "<IPython.core.display.Image object>"
            ]
          },
          "metadata": {}
        }
      ]
    },
    {
      "cell_type": "code",
      "source": [
        "from tensorflow.keras.preprocessing.image import ImageDataGenerator\n",
        "\n",
        "# Define paths\n",
        "trainpath = \"/content/output_dataset/train\"\n",
        "testpath = \"/content/output_dataset/test\"\n",
        "\n",
        "# Create ImageDataGenerators\n",
        "train_datagen = ImageDataGenerator(rescale=1./255, zoom_range=0.2, shear_range=0.2)\n",
        "test_datagen = ImageDataGenerator(rescale=1./255)\n",
        "\n",
        "# Load images from directories\n",
        "train = train_datagen.flow_from_directory(\n",
        "    trainpath,\n",
        "    target_size=(224, 224),\n",
        "    batch_size=20\n",
        ")\n",
        "\n",
        "test = test_datagen.flow_from_directory(\n",
        "    testpath,\n",
        "    target_size=(224, 224),\n",
        "    batch_size=20\n",
        ")"
      ],
      "metadata": {
        "colab": {
          "base_uri": "https://localhost:8080/"
        },
        "id": "XXBI3PK5Hzj6",
        "outputId": "67ff818f-f89a-4cec-fba5-0ceadfa7c8b8"
      },
      "execution_count": null,
      "outputs": [
        {
          "output_type": "stream",
          "name": "stdout",
          "text": [
            "Found 234 images belonging to 3 classes.\n",
            "Found 78 images belonging to 3 classes.\n"
          ]
        }
      ]
    },
    {
      "cell_type": "code",
      "source": [
        "trainpath = \"/content/output_dataset/train\"\n",
        "testpath = \"/content/output_dataset/test\"\n",
        "\n",
        "train_datagen = ImageDataGenerator(rescale=1./255, zoom_range=0.2, shear_range=0.2)\n",
        "test_datagen = ImageDataGenerator(rescale=1./255)\n",
        "\n",
        "train = train_datagen.flow_from_directory(trainpath, target_size=(224, 224), batch_size=20)\n",
        "test = test_datagen.flow_from_directory(testpath, target_size=(224, 224), batch_size=20)\n"
      ],
      "metadata": {
        "colab": {
          "base_uri": "https://localhost:8080/"
        },
        "id": "3mKw1LO5DnAs",
        "outputId": "749bc2c1-9bda-409c-b494-62780d8ede6a"
      },
      "execution_count": null,
      "outputs": [
        {
          "output_type": "stream",
          "name": "stdout",
          "text": [
            "Found 234 images belonging to 3 classes.\n",
            "Found 78 images belonging to 3 classes.\n"
          ]
        }
      ]
    },
    {
      "cell_type": "code",
      "source": [
        "from tensorflow.keras.applications import VGG16\n",
        "from tensorflow.keras.models import Model\n",
        "from tensorflow.keras.layers import Flatten, Dense\n",
        "\n",
        "# Load the VGG16 model without the top classification layer\n",
        "vgg = VGG16(include_top=False, input_shape=(224, 224, 3))\n",
        "\n",
        "# Optional: print layers (debug step)\n",
        "for layer in vgg.layers:\n",
        "    print(layer)\n",
        "\n",
        "# Freeze all layers in the VGG16 base\n",
        "for layer in vgg.layers:\n",
        "    layer.trainable = False\n",
        "\n",
        "# Add custom classification layers\n",
        "x = Flatten()(vgg.output)\n",
        "output = Dense(3, activation='softmax')(x)  # Adjust '3' if you have a different number of classes\n",
        "\n",
        "# Create the final model\n",
        "vgg16 = Model(inputs=vgg.input, outputs=output)\n",
        "\n",
        "# Show model architecture\n",
        "vgg16.summary()"
      ],
      "metadata": {
        "colab": {
          "base_uri": "https://localhost:8080/",
          "height": 1000
        },
        "id": "5bzKM6dVIGK-",
        "outputId": "ed1d4a29-0cf1-4c80-9707-b46c5f248c74"
      },
      "execution_count": null,
      "outputs": [
        {
          "output_type": "stream",
          "name": "stdout",
          "text": [
            "<InputLayer name=input_layer_1, built=True>\n",
            "<Conv2D name=block1_conv1, built=True>\n",
            "<Conv2D name=block1_conv2, built=True>\n",
            "<MaxPooling2D name=block1_pool, built=True>\n",
            "<Conv2D name=block2_conv1, built=True>\n",
            "<Conv2D name=block2_conv2, built=True>\n",
            "<MaxPooling2D name=block2_pool, built=True>\n",
            "<Conv2D name=block3_conv1, built=True>\n",
            "<Conv2D name=block3_conv2, built=True>\n",
            "<Conv2D name=block3_conv3, built=True>\n",
            "<MaxPooling2D name=block3_pool, built=True>\n",
            "<Conv2D name=block4_conv1, built=True>\n",
            "<Conv2D name=block4_conv2, built=True>\n",
            "<Conv2D name=block4_conv3, built=True>\n",
            "<MaxPooling2D name=block4_pool, built=True>\n",
            "<Conv2D name=block5_conv1, built=True>\n",
            "<Conv2D name=block5_conv2, built=True>\n",
            "<Conv2D name=block5_conv3, built=True>\n",
            "<MaxPooling2D name=block5_pool, built=True>\n"
          ]
        },
        {
          "output_type": "display_data",
          "data": {
            "text/plain": [
              "\u001b[1mModel: \"functional_1\"\u001b[0m\n"
            ],
            "text/html": [
              "<pre style=\"white-space:pre;overflow-x:auto;line-height:normal;font-family:Menlo,'DejaVu Sans Mono',consolas,'Courier New',monospace\"><span style=\"font-weight: bold\">Model: \"functional_1\"</span>\n",
              "</pre>\n"
            ]
          },
          "metadata": {}
        },
        {
          "output_type": "display_data",
          "data": {
            "text/plain": [
              "┏━━━━━━━━━━━━━━━━━━━━━━━━━━━━━━━━━┳━━━━━━━━━━━━━━━━━━━━━━━━┳━━━━━━━━━━━━━━━┓\n",
              "┃\u001b[1m \u001b[0m\u001b[1mLayer (type)                   \u001b[0m\u001b[1m \u001b[0m┃\u001b[1m \u001b[0m\u001b[1mOutput Shape          \u001b[0m\u001b[1m \u001b[0m┃\u001b[1m \u001b[0m\u001b[1m      Param #\u001b[0m\u001b[1m \u001b[0m┃\n",
              "┡━━━━━━━━━━━━━━━━━━━━━━━━━━━━━━━━━╇━━━━━━━━━━━━━━━━━━━━━━━━╇━━━━━━━━━━━━━━━┩\n",
              "│ input_layer_1 (\u001b[38;5;33mInputLayer\u001b[0m)      │ (\u001b[38;5;45mNone\u001b[0m, \u001b[38;5;34m224\u001b[0m, \u001b[38;5;34m224\u001b[0m, \u001b[38;5;34m3\u001b[0m)    │             \u001b[38;5;34m0\u001b[0m │\n",
              "├─────────────────────────────────┼────────────────────────┼───────────────┤\n",
              "│ block1_conv1 (\u001b[38;5;33mConv2D\u001b[0m)           │ (\u001b[38;5;45mNone\u001b[0m, \u001b[38;5;34m224\u001b[0m, \u001b[38;5;34m224\u001b[0m, \u001b[38;5;34m64\u001b[0m)   │         \u001b[38;5;34m1,792\u001b[0m │\n",
              "├─────────────────────────────────┼────────────────────────┼───────────────┤\n",
              "│ block1_conv2 (\u001b[38;5;33mConv2D\u001b[0m)           │ (\u001b[38;5;45mNone\u001b[0m, \u001b[38;5;34m224\u001b[0m, \u001b[38;5;34m224\u001b[0m, \u001b[38;5;34m64\u001b[0m)   │        \u001b[38;5;34m36,928\u001b[0m │\n",
              "├─────────────────────────────────┼────────────────────────┼───────────────┤\n",
              "│ block1_pool (\u001b[38;5;33mMaxPooling2D\u001b[0m)      │ (\u001b[38;5;45mNone\u001b[0m, \u001b[38;5;34m112\u001b[0m, \u001b[38;5;34m112\u001b[0m, \u001b[38;5;34m64\u001b[0m)   │             \u001b[38;5;34m0\u001b[0m │\n",
              "├─────────────────────────────────┼────────────────────────┼───────────────┤\n",
              "│ block2_conv1 (\u001b[38;5;33mConv2D\u001b[0m)           │ (\u001b[38;5;45mNone\u001b[0m, \u001b[38;5;34m112\u001b[0m, \u001b[38;5;34m112\u001b[0m, \u001b[38;5;34m128\u001b[0m)  │        \u001b[38;5;34m73,856\u001b[0m │\n",
              "├─────────────────────────────────┼────────────────────────┼───────────────┤\n",
              "│ block2_conv2 (\u001b[38;5;33mConv2D\u001b[0m)           │ (\u001b[38;5;45mNone\u001b[0m, \u001b[38;5;34m112\u001b[0m, \u001b[38;5;34m112\u001b[0m, \u001b[38;5;34m128\u001b[0m)  │       \u001b[38;5;34m147,584\u001b[0m │\n",
              "├─────────────────────────────────┼────────────────────────┼───────────────┤\n",
              "│ block2_pool (\u001b[38;5;33mMaxPooling2D\u001b[0m)      │ (\u001b[38;5;45mNone\u001b[0m, \u001b[38;5;34m56\u001b[0m, \u001b[38;5;34m56\u001b[0m, \u001b[38;5;34m128\u001b[0m)    │             \u001b[38;5;34m0\u001b[0m │\n",
              "├─────────────────────────────────┼────────────────────────┼───────────────┤\n",
              "│ block3_conv1 (\u001b[38;5;33mConv2D\u001b[0m)           │ (\u001b[38;5;45mNone\u001b[0m, \u001b[38;5;34m56\u001b[0m, \u001b[38;5;34m56\u001b[0m, \u001b[38;5;34m256\u001b[0m)    │       \u001b[38;5;34m295,168\u001b[0m │\n",
              "├─────────────────────────────────┼────────────────────────┼───────────────┤\n",
              "│ block3_conv2 (\u001b[38;5;33mConv2D\u001b[0m)           │ (\u001b[38;5;45mNone\u001b[0m, \u001b[38;5;34m56\u001b[0m, \u001b[38;5;34m56\u001b[0m, \u001b[38;5;34m256\u001b[0m)    │       \u001b[38;5;34m590,080\u001b[0m │\n",
              "├─────────────────────────────────┼────────────────────────┼───────────────┤\n",
              "│ block3_conv3 (\u001b[38;5;33mConv2D\u001b[0m)           │ (\u001b[38;5;45mNone\u001b[0m, \u001b[38;5;34m56\u001b[0m, \u001b[38;5;34m56\u001b[0m, \u001b[38;5;34m256\u001b[0m)    │       \u001b[38;5;34m590,080\u001b[0m │\n",
              "├─────────────────────────────────┼────────────────────────┼───────────────┤\n",
              "│ block3_pool (\u001b[38;5;33mMaxPooling2D\u001b[0m)      │ (\u001b[38;5;45mNone\u001b[0m, \u001b[38;5;34m28\u001b[0m, \u001b[38;5;34m28\u001b[0m, \u001b[38;5;34m256\u001b[0m)    │             \u001b[38;5;34m0\u001b[0m │\n",
              "├─────────────────────────────────┼────────────────────────┼───────────────┤\n",
              "│ block4_conv1 (\u001b[38;5;33mConv2D\u001b[0m)           │ (\u001b[38;5;45mNone\u001b[0m, \u001b[38;5;34m28\u001b[0m, \u001b[38;5;34m28\u001b[0m, \u001b[38;5;34m512\u001b[0m)    │     \u001b[38;5;34m1,180,160\u001b[0m │\n",
              "├─────────────────────────────────┼────────────────────────┼───────────────┤\n",
              "│ block4_conv2 (\u001b[38;5;33mConv2D\u001b[0m)           │ (\u001b[38;5;45mNone\u001b[0m, \u001b[38;5;34m28\u001b[0m, \u001b[38;5;34m28\u001b[0m, \u001b[38;5;34m512\u001b[0m)    │     \u001b[38;5;34m2,359,808\u001b[0m │\n",
              "├─────────────────────────────────┼────────────────────────┼───────────────┤\n",
              "│ block4_conv3 (\u001b[38;5;33mConv2D\u001b[0m)           │ (\u001b[38;5;45mNone\u001b[0m, \u001b[38;5;34m28\u001b[0m, \u001b[38;5;34m28\u001b[0m, \u001b[38;5;34m512\u001b[0m)    │     \u001b[38;5;34m2,359,808\u001b[0m │\n",
              "├─────────────────────────────────┼────────────────────────┼───────────────┤\n",
              "│ block4_pool (\u001b[38;5;33mMaxPooling2D\u001b[0m)      │ (\u001b[38;5;45mNone\u001b[0m, \u001b[38;5;34m14\u001b[0m, \u001b[38;5;34m14\u001b[0m, \u001b[38;5;34m512\u001b[0m)    │             \u001b[38;5;34m0\u001b[0m │\n",
              "├─────────────────────────────────┼────────────────────────┼───────────────┤\n",
              "│ block5_conv1 (\u001b[38;5;33mConv2D\u001b[0m)           │ (\u001b[38;5;45mNone\u001b[0m, \u001b[38;5;34m14\u001b[0m, \u001b[38;5;34m14\u001b[0m, \u001b[38;5;34m512\u001b[0m)    │     \u001b[38;5;34m2,359,808\u001b[0m │\n",
              "├─────────────────────────────────┼────────────────────────┼───────────────┤\n",
              "│ block5_conv2 (\u001b[38;5;33mConv2D\u001b[0m)           │ (\u001b[38;5;45mNone\u001b[0m, \u001b[38;5;34m14\u001b[0m, \u001b[38;5;34m14\u001b[0m, \u001b[38;5;34m512\u001b[0m)    │     \u001b[38;5;34m2,359,808\u001b[0m │\n",
              "├─────────────────────────────────┼────────────────────────┼───────────────┤\n",
              "│ block5_conv3 (\u001b[38;5;33mConv2D\u001b[0m)           │ (\u001b[38;5;45mNone\u001b[0m, \u001b[38;5;34m14\u001b[0m, \u001b[38;5;34m14\u001b[0m, \u001b[38;5;34m512\u001b[0m)    │     \u001b[38;5;34m2,359,808\u001b[0m │\n",
              "├─────────────────────────────────┼────────────────────────┼───────────────┤\n",
              "│ block5_pool (\u001b[38;5;33mMaxPooling2D\u001b[0m)      │ (\u001b[38;5;45mNone\u001b[0m, \u001b[38;5;34m7\u001b[0m, \u001b[38;5;34m7\u001b[0m, \u001b[38;5;34m512\u001b[0m)      │             \u001b[38;5;34m0\u001b[0m │\n",
              "├─────────────────────────────────┼────────────────────────┼───────────────┤\n",
              "│ flatten_1 (\u001b[38;5;33mFlatten\u001b[0m)             │ (\u001b[38;5;45mNone\u001b[0m, \u001b[38;5;34m25088\u001b[0m)          │             \u001b[38;5;34m0\u001b[0m │\n",
              "├─────────────────────────────────┼────────────────────────┼───────────────┤\n",
              "│ dense_1 (\u001b[38;5;33mDense\u001b[0m)                 │ (\u001b[38;5;45mNone\u001b[0m, \u001b[38;5;34m3\u001b[0m)              │        \u001b[38;5;34m75,267\u001b[0m │\n",
              "└─────────────────────────────────┴────────────────────────┴───────────────┘\n"
            ],
            "text/html": [
              "<pre style=\"white-space:pre;overflow-x:auto;line-height:normal;font-family:Menlo,'DejaVu Sans Mono',consolas,'Courier New',monospace\">┏━━━━━━━━━━━━━━━━━━━━━━━━━━━━━━━━━┳━━━━━━━━━━━━━━━━━━━━━━━━┳━━━━━━━━━━━━━━━┓\n",
              "┃<span style=\"font-weight: bold\"> Layer (type)                    </span>┃<span style=\"font-weight: bold\"> Output Shape           </span>┃<span style=\"font-weight: bold\">       Param # </span>┃\n",
              "┡━━━━━━━━━━━━━━━━━━━━━━━━━━━━━━━━━╇━━━━━━━━━━━━━━━━━━━━━━━━╇━━━━━━━━━━━━━━━┩\n",
              "│ input_layer_1 (<span style=\"color: #0087ff; text-decoration-color: #0087ff\">InputLayer</span>)      │ (<span style=\"color: #00d7ff; text-decoration-color: #00d7ff\">None</span>, <span style=\"color: #00af00; text-decoration-color: #00af00\">224</span>, <span style=\"color: #00af00; text-decoration-color: #00af00\">224</span>, <span style=\"color: #00af00; text-decoration-color: #00af00\">3</span>)    │             <span style=\"color: #00af00; text-decoration-color: #00af00\">0</span> │\n",
              "├─────────────────────────────────┼────────────────────────┼───────────────┤\n",
              "│ block1_conv1 (<span style=\"color: #0087ff; text-decoration-color: #0087ff\">Conv2D</span>)           │ (<span style=\"color: #00d7ff; text-decoration-color: #00d7ff\">None</span>, <span style=\"color: #00af00; text-decoration-color: #00af00\">224</span>, <span style=\"color: #00af00; text-decoration-color: #00af00\">224</span>, <span style=\"color: #00af00; text-decoration-color: #00af00\">64</span>)   │         <span style=\"color: #00af00; text-decoration-color: #00af00\">1,792</span> │\n",
              "├─────────────────────────────────┼────────────────────────┼───────────────┤\n",
              "│ block1_conv2 (<span style=\"color: #0087ff; text-decoration-color: #0087ff\">Conv2D</span>)           │ (<span style=\"color: #00d7ff; text-decoration-color: #00d7ff\">None</span>, <span style=\"color: #00af00; text-decoration-color: #00af00\">224</span>, <span style=\"color: #00af00; text-decoration-color: #00af00\">224</span>, <span style=\"color: #00af00; text-decoration-color: #00af00\">64</span>)   │        <span style=\"color: #00af00; text-decoration-color: #00af00\">36,928</span> │\n",
              "├─────────────────────────────────┼────────────────────────┼───────────────┤\n",
              "│ block1_pool (<span style=\"color: #0087ff; text-decoration-color: #0087ff\">MaxPooling2D</span>)      │ (<span style=\"color: #00d7ff; text-decoration-color: #00d7ff\">None</span>, <span style=\"color: #00af00; text-decoration-color: #00af00\">112</span>, <span style=\"color: #00af00; text-decoration-color: #00af00\">112</span>, <span style=\"color: #00af00; text-decoration-color: #00af00\">64</span>)   │             <span style=\"color: #00af00; text-decoration-color: #00af00\">0</span> │\n",
              "├─────────────────────────────────┼────────────────────────┼───────────────┤\n",
              "│ block2_conv1 (<span style=\"color: #0087ff; text-decoration-color: #0087ff\">Conv2D</span>)           │ (<span style=\"color: #00d7ff; text-decoration-color: #00d7ff\">None</span>, <span style=\"color: #00af00; text-decoration-color: #00af00\">112</span>, <span style=\"color: #00af00; text-decoration-color: #00af00\">112</span>, <span style=\"color: #00af00; text-decoration-color: #00af00\">128</span>)  │        <span style=\"color: #00af00; text-decoration-color: #00af00\">73,856</span> │\n",
              "├─────────────────────────────────┼────────────────────────┼───────────────┤\n",
              "│ block2_conv2 (<span style=\"color: #0087ff; text-decoration-color: #0087ff\">Conv2D</span>)           │ (<span style=\"color: #00d7ff; text-decoration-color: #00d7ff\">None</span>, <span style=\"color: #00af00; text-decoration-color: #00af00\">112</span>, <span style=\"color: #00af00; text-decoration-color: #00af00\">112</span>, <span style=\"color: #00af00; text-decoration-color: #00af00\">128</span>)  │       <span style=\"color: #00af00; text-decoration-color: #00af00\">147,584</span> │\n",
              "├─────────────────────────────────┼────────────────────────┼───────────────┤\n",
              "│ block2_pool (<span style=\"color: #0087ff; text-decoration-color: #0087ff\">MaxPooling2D</span>)      │ (<span style=\"color: #00d7ff; text-decoration-color: #00d7ff\">None</span>, <span style=\"color: #00af00; text-decoration-color: #00af00\">56</span>, <span style=\"color: #00af00; text-decoration-color: #00af00\">56</span>, <span style=\"color: #00af00; text-decoration-color: #00af00\">128</span>)    │             <span style=\"color: #00af00; text-decoration-color: #00af00\">0</span> │\n",
              "├─────────────────────────────────┼────────────────────────┼───────────────┤\n",
              "│ block3_conv1 (<span style=\"color: #0087ff; text-decoration-color: #0087ff\">Conv2D</span>)           │ (<span style=\"color: #00d7ff; text-decoration-color: #00d7ff\">None</span>, <span style=\"color: #00af00; text-decoration-color: #00af00\">56</span>, <span style=\"color: #00af00; text-decoration-color: #00af00\">56</span>, <span style=\"color: #00af00; text-decoration-color: #00af00\">256</span>)    │       <span style=\"color: #00af00; text-decoration-color: #00af00\">295,168</span> │\n",
              "├─────────────────────────────────┼────────────────────────┼───────────────┤\n",
              "│ block3_conv2 (<span style=\"color: #0087ff; text-decoration-color: #0087ff\">Conv2D</span>)           │ (<span style=\"color: #00d7ff; text-decoration-color: #00d7ff\">None</span>, <span style=\"color: #00af00; text-decoration-color: #00af00\">56</span>, <span style=\"color: #00af00; text-decoration-color: #00af00\">56</span>, <span style=\"color: #00af00; text-decoration-color: #00af00\">256</span>)    │       <span style=\"color: #00af00; text-decoration-color: #00af00\">590,080</span> │\n",
              "├─────────────────────────────────┼────────────────────────┼───────────────┤\n",
              "│ block3_conv3 (<span style=\"color: #0087ff; text-decoration-color: #0087ff\">Conv2D</span>)           │ (<span style=\"color: #00d7ff; text-decoration-color: #00d7ff\">None</span>, <span style=\"color: #00af00; text-decoration-color: #00af00\">56</span>, <span style=\"color: #00af00; text-decoration-color: #00af00\">56</span>, <span style=\"color: #00af00; text-decoration-color: #00af00\">256</span>)    │       <span style=\"color: #00af00; text-decoration-color: #00af00\">590,080</span> │\n",
              "├─────────────────────────────────┼────────────────────────┼───────────────┤\n",
              "│ block3_pool (<span style=\"color: #0087ff; text-decoration-color: #0087ff\">MaxPooling2D</span>)      │ (<span style=\"color: #00d7ff; text-decoration-color: #00d7ff\">None</span>, <span style=\"color: #00af00; text-decoration-color: #00af00\">28</span>, <span style=\"color: #00af00; text-decoration-color: #00af00\">28</span>, <span style=\"color: #00af00; text-decoration-color: #00af00\">256</span>)    │             <span style=\"color: #00af00; text-decoration-color: #00af00\">0</span> │\n",
              "├─────────────────────────────────┼────────────────────────┼───────────────┤\n",
              "│ block4_conv1 (<span style=\"color: #0087ff; text-decoration-color: #0087ff\">Conv2D</span>)           │ (<span style=\"color: #00d7ff; text-decoration-color: #00d7ff\">None</span>, <span style=\"color: #00af00; text-decoration-color: #00af00\">28</span>, <span style=\"color: #00af00; text-decoration-color: #00af00\">28</span>, <span style=\"color: #00af00; text-decoration-color: #00af00\">512</span>)    │     <span style=\"color: #00af00; text-decoration-color: #00af00\">1,180,160</span> │\n",
              "├─────────────────────────────────┼────────────────────────┼───────────────┤\n",
              "│ block4_conv2 (<span style=\"color: #0087ff; text-decoration-color: #0087ff\">Conv2D</span>)           │ (<span style=\"color: #00d7ff; text-decoration-color: #00d7ff\">None</span>, <span style=\"color: #00af00; text-decoration-color: #00af00\">28</span>, <span style=\"color: #00af00; text-decoration-color: #00af00\">28</span>, <span style=\"color: #00af00; text-decoration-color: #00af00\">512</span>)    │     <span style=\"color: #00af00; text-decoration-color: #00af00\">2,359,808</span> │\n",
              "├─────────────────────────────────┼────────────────────────┼───────────────┤\n",
              "│ block4_conv3 (<span style=\"color: #0087ff; text-decoration-color: #0087ff\">Conv2D</span>)           │ (<span style=\"color: #00d7ff; text-decoration-color: #00d7ff\">None</span>, <span style=\"color: #00af00; text-decoration-color: #00af00\">28</span>, <span style=\"color: #00af00; text-decoration-color: #00af00\">28</span>, <span style=\"color: #00af00; text-decoration-color: #00af00\">512</span>)    │     <span style=\"color: #00af00; text-decoration-color: #00af00\">2,359,808</span> │\n",
              "├─────────────────────────────────┼────────────────────────┼───────────────┤\n",
              "│ block4_pool (<span style=\"color: #0087ff; text-decoration-color: #0087ff\">MaxPooling2D</span>)      │ (<span style=\"color: #00d7ff; text-decoration-color: #00d7ff\">None</span>, <span style=\"color: #00af00; text-decoration-color: #00af00\">14</span>, <span style=\"color: #00af00; text-decoration-color: #00af00\">14</span>, <span style=\"color: #00af00; text-decoration-color: #00af00\">512</span>)    │             <span style=\"color: #00af00; text-decoration-color: #00af00\">0</span> │\n",
              "├─────────────────────────────────┼────────────────────────┼───────────────┤\n",
              "│ block5_conv1 (<span style=\"color: #0087ff; text-decoration-color: #0087ff\">Conv2D</span>)           │ (<span style=\"color: #00d7ff; text-decoration-color: #00d7ff\">None</span>, <span style=\"color: #00af00; text-decoration-color: #00af00\">14</span>, <span style=\"color: #00af00; text-decoration-color: #00af00\">14</span>, <span style=\"color: #00af00; text-decoration-color: #00af00\">512</span>)    │     <span style=\"color: #00af00; text-decoration-color: #00af00\">2,359,808</span> │\n",
              "├─────────────────────────────────┼────────────────────────┼───────────────┤\n",
              "│ block5_conv2 (<span style=\"color: #0087ff; text-decoration-color: #0087ff\">Conv2D</span>)           │ (<span style=\"color: #00d7ff; text-decoration-color: #00d7ff\">None</span>, <span style=\"color: #00af00; text-decoration-color: #00af00\">14</span>, <span style=\"color: #00af00; text-decoration-color: #00af00\">14</span>, <span style=\"color: #00af00; text-decoration-color: #00af00\">512</span>)    │     <span style=\"color: #00af00; text-decoration-color: #00af00\">2,359,808</span> │\n",
              "├─────────────────────────────────┼────────────────────────┼───────────────┤\n",
              "│ block5_conv3 (<span style=\"color: #0087ff; text-decoration-color: #0087ff\">Conv2D</span>)           │ (<span style=\"color: #00d7ff; text-decoration-color: #00d7ff\">None</span>, <span style=\"color: #00af00; text-decoration-color: #00af00\">14</span>, <span style=\"color: #00af00; text-decoration-color: #00af00\">14</span>, <span style=\"color: #00af00; text-decoration-color: #00af00\">512</span>)    │     <span style=\"color: #00af00; text-decoration-color: #00af00\">2,359,808</span> │\n",
              "├─────────────────────────────────┼────────────────────────┼───────────────┤\n",
              "│ block5_pool (<span style=\"color: #0087ff; text-decoration-color: #0087ff\">MaxPooling2D</span>)      │ (<span style=\"color: #00d7ff; text-decoration-color: #00d7ff\">None</span>, <span style=\"color: #00af00; text-decoration-color: #00af00\">7</span>, <span style=\"color: #00af00; text-decoration-color: #00af00\">7</span>, <span style=\"color: #00af00; text-decoration-color: #00af00\">512</span>)      │             <span style=\"color: #00af00; text-decoration-color: #00af00\">0</span> │\n",
              "├─────────────────────────────────┼────────────────────────┼───────────────┤\n",
              "│ flatten_1 (<span style=\"color: #0087ff; text-decoration-color: #0087ff\">Flatten</span>)             │ (<span style=\"color: #00d7ff; text-decoration-color: #00d7ff\">None</span>, <span style=\"color: #00af00; text-decoration-color: #00af00\">25088</span>)          │             <span style=\"color: #00af00; text-decoration-color: #00af00\">0</span> │\n",
              "├─────────────────────────────────┼────────────────────────┼───────────────┤\n",
              "│ dense_1 (<span style=\"color: #0087ff; text-decoration-color: #0087ff\">Dense</span>)                 │ (<span style=\"color: #00d7ff; text-decoration-color: #00d7ff\">None</span>, <span style=\"color: #00af00; text-decoration-color: #00af00\">3</span>)              │        <span style=\"color: #00af00; text-decoration-color: #00af00\">75,267</span> │\n",
              "└─────────────────────────────────┴────────────────────────┴───────────────┘\n",
              "</pre>\n"
            ]
          },
          "metadata": {}
        },
        {
          "output_type": "display_data",
          "data": {
            "text/plain": [
              "\u001b[1m Total params: \u001b[0m\u001b[38;5;34m14,789,955\u001b[0m (56.42 MB)\n"
            ],
            "text/html": [
              "<pre style=\"white-space:pre;overflow-x:auto;line-height:normal;font-family:Menlo,'DejaVu Sans Mono',consolas,'Courier New',monospace\"><span style=\"font-weight: bold\"> Total params: </span><span style=\"color: #00af00; text-decoration-color: #00af00\">14,789,955</span> (56.42 MB)\n",
              "</pre>\n"
            ]
          },
          "metadata": {}
        },
        {
          "output_type": "display_data",
          "data": {
            "text/plain": [
              "\u001b[1m Trainable params: \u001b[0m\u001b[38;5;34m75,267\u001b[0m (294.01 KB)\n"
            ],
            "text/html": [
              "<pre style=\"white-space:pre;overflow-x:auto;line-height:normal;font-family:Menlo,'DejaVu Sans Mono',consolas,'Courier New',monospace\"><span style=\"font-weight: bold\"> Trainable params: </span><span style=\"color: #00af00; text-decoration-color: #00af00\">75,267</span> (294.01 KB)\n",
              "</pre>\n"
            ]
          },
          "metadata": {}
        },
        {
          "output_type": "display_data",
          "data": {
            "text/plain": [
              "\u001b[1m Non-trainable params: \u001b[0m\u001b[38;5;34m14,714,688\u001b[0m (56.13 MB)\n"
            ],
            "text/html": [
              "<pre style=\"white-space:pre;overflow-x:auto;line-height:normal;font-family:Menlo,'DejaVu Sans Mono',consolas,'Courier New',monospace\"><span style=\"font-weight: bold\"> Non-trainable params: </span><span style=\"color: #00af00; text-decoration-color: #00af00\">14,714,688</span> (56.13 MB)\n",
              "</pre>\n"
            ]
          },
          "metadata": {}
        }
      ]
    },
    {
      "cell_type": "code",
      "source": [
        "from keras.callbacks import EarlyStopping\n",
        "from keras.optimizers import Adam\n",
        "opt = Adam(learning_rate=0.0001)\n",
        "\n",
        "# Assuming you have defined your VGG16 model as vgg16\n",
        "\n",
        "# Define Early Stopping callback\n",
        "early_stopping = EarlyStopping(monitor='val_accuracy', patience=3, restore_best_weights=True)\n",
        "\n",
        "# Compile the model (you may have already done this)\n",
        "vgg16.compile(optimizer=opt, loss='categorical_crossentropy', metrics=['accuracy'])\n",
        "\n",
        "# Train the model with early stopping callback\n",
        "history = vgg16.fit(train, validation_data=test,\n",
        "                    epochs=10,\n",
        "                    steps_per_epoch=5,\n",
        "                    callbacks=[early_stopping])"
      ],
      "metadata": {
        "id": "NN8sWAb5J1Nz",
        "colab": {
          "base_uri": "https://localhost:8080/"
        },
        "outputId": "b93f10a7-615c-4d28-a098-8f62961153ca"
      },
      "execution_count": null,
      "outputs": [
        {
          "output_type": "stream",
          "name": "stderr",
          "text": [
            "/usr/local/lib/python3.11/dist-packages/keras/src/trainers/data_adapters/py_dataset_adapter.py:121: UserWarning: Your `PyDataset` class should call `super().__init__(**kwargs)` in its constructor. `**kwargs` can include `workers`, `use_multiprocessing`, `max_queue_size`. Do not pass these arguments to `fit()`, as they will be ignored.\n",
            "  self._warn_if_super_not_called()\n"
          ]
        },
        {
          "output_type": "stream",
          "name": "stdout",
          "text": [
            "Epoch 1/10\n",
            "\u001b[1m5/5\u001b[0m \u001b[32m━━━━━━━━━━━━━━━━━━━━\u001b[0m\u001b[37m\u001b[0m \u001b[1m144s\u001b[0m 32s/step - accuracy: 0.3554 - loss: 1.1693 - val_accuracy: 0.4744 - val_loss: 0.9749\n",
            "Epoch 2/10\n",
            "\u001b[1m5/5\u001b[0m \u001b[32m━━━━━━━━━━━━━━━━━━━━\u001b[0m\u001b[37m\u001b[0m \u001b[1m144s\u001b[0m 33s/step - accuracy: 0.4462 - loss: 1.0001 - val_accuracy: 0.6410 - val_loss: 0.8461\n",
            "Epoch 3/10\n",
            "\u001b[1m5/5\u001b[0m \u001b[32m━━━━━━━━━━━━━━━━━━━━\u001b[0m\u001b[37m\u001b[0m \u001b[1m72s\u001b[0m 15s/step - accuracy: 0.5100 - loss: 0.8908 - val_accuracy: 0.6923 - val_loss: 0.7966\n",
            "Epoch 4/10\n",
            "\u001b[1m5/5\u001b[0m \u001b[32m━━━━━━━━━━━━━━━━━━━━\u001b[0m\u001b[37m\u001b[0m \u001b[1m134s\u001b[0m 24s/step - accuracy: 0.6919 - loss: 0.7777 - val_accuracy: 0.7564 - val_loss: 0.7036\n",
            "Epoch 5/10\n",
            "\u001b[1m5/5\u001b[0m \u001b[32m━━━━━━━━━━━━━━━━━━━━\u001b[0m\u001b[37m\u001b[0m \u001b[1m106s\u001b[0m 24s/step - accuracy: 0.7700 - loss: 0.6264 - val_accuracy: 0.7692 - val_loss: 0.6548\n",
            "Epoch 6/10\n",
            "\u001b[1m5/5\u001b[0m \u001b[32m━━━━━━━━━━━━━━━━━━━━\u001b[0m\u001b[37m\u001b[0m \u001b[1m72s\u001b[0m 15s/step - accuracy: 0.6400 - loss: 0.6932 - val_accuracy: 0.7692 - val_loss: 0.6343\n",
            "Epoch 7/10\n",
            "\u001b[1m5/5\u001b[0m \u001b[32m━━━━━━━━━━━━━━━━━━━━\u001b[0m\u001b[37m\u001b[0m \u001b[1m110s\u001b[0m 24s/step - accuracy: 0.8297 - loss: 0.5429 - val_accuracy: 0.7436 - val_loss: 0.6103\n",
            "Epoch 8/10\n",
            "\u001b[1m5/5\u001b[0m \u001b[32m━━━━━━━━━━━━━━━━━━━━\u001b[0m\u001b[37m\u001b[0m \u001b[1m105s\u001b[0m 23s/step - accuracy: 0.8253 - loss: 0.5346 - val_accuracy: 0.7436 - val_loss: 0.5918\n"
          ]
        }
      ]
    }
  ]
}